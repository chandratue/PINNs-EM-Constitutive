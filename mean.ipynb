{
 "cells": [
  {
   "cell_type": "code",
   "execution_count": 1,
   "metadata": {},
   "outputs": [
    {
     "name": "stdout",
     "output_type": "stream",
     "text": [
      "[1.9992 1.9978 1.9987 1.9995 1.999 ]\n",
      "\n",
      "Mean:  1.99884\n",
      "\n",
      "std:  0.0005817215828899855\n"
     ]
    }
   ],
   "source": [
    "import numpy as np\n",
    "\n",
    "# one d problem 1\n",
    " \n",
    "# Original array\n",
    "array = np.zeros(5)\n",
    "array[0] = 1.9992\n",
    "array[1] = 1.9978\n",
    "array[2] = 1.9987\n",
    "array[3] = 1.9995\n",
    "array[4] = 1.9990\n",
    "print(array)\n",
    "  \n",
    "r1 = np.mean(array)\n",
    "print(\"\\nMean: \", r1)\n",
    "  \n",
    "r2 = np.std(array)\n",
    "print(\"\\nstd: \", r2)"
   ]
  },
  {
   "cell_type": "code",
   "execution_count": null,
   "metadata": {},
   "outputs": [],
   "source": []
  },
  {
   "cell_type": "code",
   "execution_count": 2,
   "metadata": {},
   "outputs": [
    {
     "name": "stdout",
     "output_type": "stream",
     "text": [
      "[2.9852 2.9976 3.0103 3.0149 3.036 ]\n",
      "\n",
      "Mean:  3.0088\n",
      "\n",
      "std:  0.017097953093864842\n"
     ]
    }
   ],
   "source": [
    "# two d problem 1 eps1\n",
    " \n",
    "# Original array\n",
    "array = np.zeros(5)\n",
    "array[0] = 2.9852\n",
    "array[1] = 2.9976\n",
    "array[2] = 3.0103\n",
    "array[3] = 3.0149\n",
    "array[4] = 3.0360\n",
    "print(array)\n",
    "  \n",
    "r1 = np.mean(array)\n",
    "print(\"\\nMean: \", r1)\n",
    "  \n",
    "r2 = np.std(array)\n",
    "print(\"\\nstd: \", r2)"
   ]
  },
  {
   "cell_type": "code",
   "execution_count": 3,
   "metadata": {},
   "outputs": [
    {
     "name": "stdout",
     "output_type": "stream",
     "text": [
      "[2.0096 1.9974 1.9845 2.0078 2.0054]\n",
      "\n",
      "Mean:  2.00094\n",
      "\n",
      "std:  0.009216854127086942\n"
     ]
    }
   ],
   "source": [
    "# two d problem 1 eps2\n",
    " \n",
    "# Original array\n",
    "array = np.zeros(5)\n",
    "array[0] = 2.0096\n",
    "array[1] = 1.9974\n",
    "array[2] = 1.9845\n",
    "array[3] = 2.0078\n",
    "array[4] = 2.0054\n",
    "print(array)\n",
    "  \n",
    "r1 = np.mean(array)\n",
    "print(\"\\nMean: \", r1)\n",
    "  \n",
    "r2 = np.std(array)\n",
    "print(\"\\nstd: \", r2)"
   ]
  },
  {
   "cell_type": "code",
   "execution_count": null,
   "metadata": {},
   "outputs": [],
   "source": []
  },
  {
   "cell_type": "code",
   "execution_count": 4,
   "metadata": {},
   "outputs": [
    {
     "name": "stdout",
     "output_type": "stream",
     "text": [
      "[3.9984 3.9846 3.9913 4.0209 4.0116]\n",
      "\n",
      "Mean:  4.00136\n",
      "\n",
      "std:  0.01324788284972359\n"
     ]
    }
   ],
   "source": [
    "# two d problem 3 eps1\n",
    " \n",
    "# Original array\n",
    "array = np.zeros(5)\n",
    "array[0] = 3.9984\n",
    "array[1] = 3.9846\n",
    "array[2] = 3.9913\n",
    "array[3] = 4.0209\n",
    "array[4] = 4.0116\n",
    "print(array)\n",
    "  \n",
    "r1 = np.mean(array)\n",
    "print(\"\\nMean: \", r1)\n",
    "  \n",
    "r2 = np.std(array)\n",
    "print(\"\\nstd: \", r2)"
   ]
  },
  {
   "cell_type": "code",
   "execution_count": 5,
   "metadata": {},
   "outputs": [
    {
     "name": "stdout",
     "output_type": "stream",
     "text": [
      "[1.9843 2.0067 1.9758 1.9819 1.9841]\n",
      "\n",
      "Mean:  1.9865599999999997\n",
      "\n",
      "std:  0.010528741615216868\n"
     ]
    }
   ],
   "source": [
    "# two d problem 3 eps2\n",
    " \n",
    "# Original array\n",
    "array = np.zeros(5)\n",
    "array[0] = 1.9843\n",
    "array[1] = 2.0067\n",
    "array[2] = 1.9758\n",
    "array[3] = 1.9819\n",
    "array[4] = 1.9841\n",
    "print(array)\n",
    "  \n",
    "r1 = np.mean(array)\n",
    "print(\"\\nMean: \", r1)\n",
    "  \n",
    "r2 = np.std(array)\n",
    "print(\"\\nstd: \", r2)"
   ]
  },
  {
   "cell_type": "code",
   "execution_count": 6,
   "metadata": {},
   "outputs": [
    {
     "name": "stdout",
     "output_type": "stream",
     "text": [
      "[2.0055 1.9652 1.9949 2.0198 2.0116]\n",
      "\n",
      "Mean:  1.9994\n",
      "\n",
      "std:  0.018931983519959027\n"
     ]
    }
   ],
   "source": [
    "# two d problem 3 eps3\n",
    " \n",
    "# Original array\n",
    "array = np.zeros(5)\n",
    "array[0] = 2.0055\n",
    "array[1] = 1.9652\n",
    "array[2] = 1.9949\n",
    "array[3] = 2.0198\n",
    "array[4] = 2.0116\n",
    "print(array)\n",
    "  \n",
    "r1 = np.mean(array)\n",
    "print(\"\\nMean: \", r1)\n",
    "  \n",
    "r2 = np.std(array)\n",
    "print(\"\\nstd: \", r2)"
   ]
  },
  {
   "cell_type": "code",
   "execution_count": 7,
   "metadata": {},
   "outputs": [
    {
     "name": "stdout",
     "output_type": "stream",
     "text": [
      "[0.9759 1.0141 0.9887 0.9984 0.9933]\n",
      "\n",
      "Mean:  0.99408\n",
      "\n",
      "std:  0.012486216400495386\n"
     ]
    }
   ],
   "source": [
    "# two d problem 3 eps4\n",
    " \n",
    "# Original array\n",
    "array = np.zeros(5)\n",
    "array[0] = 0.9759\n",
    "array[1] = 1.0141\n",
    "array[2] = 0.9887\n",
    "array[3] = 0.9984\n",
    "array[4] = 0.9933\n",
    "print(array)\n",
    "  \n",
    "r1 = np.mean(array)\n",
    "print(\"\\nMean: \", r1)\n",
    "  \n",
    "r2 = np.std(array)\n",
    "print(\"\\nstd: \", r2)"
   ]
  },
  {
   "cell_type": "code",
   "execution_count": 8,
   "metadata": {},
   "outputs": [
    {
     "name": "stdout",
     "output_type": "stream",
     "text": [
      "[1.9478 1.9838 1.9731 1.9875 1.9868]\n",
      "\n",
      "Mean:  1.9758\n",
      "\n",
      "std:  0.014920991924131587\n"
     ]
    }
   ],
   "source": [
    "# two d problem 3 mu1\n",
    " \n",
    "# Original array\n",
    "array = np.zeros(5)\n",
    "array[0] = 1.9478\n",
    "array[1] = 1.9838\n",
    "array[2] = 1.9731\n",
    "array[3] = 1.9875\n",
    "array[4] = 1.9868\n",
    "print(array)\n",
    "  \n",
    "r1 = np.mean(array)\n",
    "print(\"\\nMean: \", r1)\n",
    "  \n",
    "r2 = np.std(array)\n",
    "print(\"\\nstd: \", r2)"
   ]
  },
  {
   "cell_type": "code",
   "execution_count": null,
   "metadata": {},
   "outputs": [],
   "source": []
  },
  {
   "cell_type": "code",
   "execution_count": 9,
   "metadata": {},
   "outputs": [
    {
     "name": "stdout",
     "output_type": "stream",
     "text": [
      "[3.1027 3.0759 3.1422 2.9468 3.0089]\n",
      "\n",
      "Mean:  3.0553\n",
      "\n",
      "std:  0.06949523724687892\n"
     ]
    }
   ],
   "source": [
    "# three d problem 1 eta1\n",
    " \n",
    "# Original array\n",
    "array = np.zeros(5)\n",
    "array[0] = 3.1027\n",
    "array[1] = 3.0759\n",
    "array[2] = 3.1422\n",
    "array[3] = 2.9468\n",
    "array[4] = 3.0089\n",
    "print(array)\n",
    "  \n",
    "r1 = np.mean(array)\n",
    "print(\"\\nMean: \", r1)\n",
    "  \n",
    "r2 = np.std(array)\n",
    "print(\"\\nstd: \", r2)"
   ]
  },
  {
   "cell_type": "code",
   "execution_count": 10,
   "metadata": {},
   "outputs": [
    {
     "name": "stdout",
     "output_type": "stream",
     "text": [
      "[2.0426 1.9726 2.0226 2.0019 2.0341]\n",
      "\n",
      "Mean:  2.01476\n",
      "\n",
      "std:  0.025113390850301443\n"
     ]
    }
   ],
   "source": [
    "# three d problem 1 eta2\n",
    " \n",
    "# Original array\n",
    "array = np.zeros(5)\n",
    "array[0] = 2.0426\n",
    "array[1] = 1.9726\n",
    "array[2] = 2.0226\n",
    "array[3] = 2.0019\n",
    "array[4] = 2.0341\n",
    "print(array)\n",
    "  \n",
    "r1 = np.mean(array)\n",
    "print(\"\\nMean: \", r1)\n",
    "  \n",
    "r2 = np.std(array)\n",
    "print(\"\\nstd: \", r2)"
   ]
  },
  {
   "cell_type": "code",
   "execution_count": 11,
   "metadata": {},
   "outputs": [
    {
     "name": "stdout",
     "output_type": "stream",
     "text": [
      "[1.0291 1.1488 1.0564 1.0413 1.0357]\n",
      "\n",
      "Mean:  1.06226\n",
      "\n",
      "std:  0.04419921266267084\n"
     ]
    }
   ],
   "source": [
    "# three d problem 1 eta3\n",
    " \n",
    "# Original array\n",
    "array = np.zeros(5)\n",
    "array[0] = 1.0291\n",
    "array[1] = 1.1488\n",
    "array[2] = 1.0564\n",
    "array[3] = 1.0413\n",
    "array[4] = 1.0357\n",
    "print(array)\n",
    "  \n",
    "r1 = np.mean(array)\n",
    "print(\"\\nMean: \", r1)\n",
    "  \n",
    "r2 = np.std(array)\n",
    "print(\"\\nstd: \", r2)"
   ]
  },
  {
   "cell_type": "code",
   "execution_count": 12,
   "metadata": {},
   "outputs": [
    {
     "name": "stdout",
     "output_type": "stream",
     "text": [
      "[9.3496 9.2584 9.4896 8.8156 9.0144]\n",
      "\n",
      "Mean:  9.18552\n",
      "\n",
      "std:  0.2411726551663765\n"
     ]
    }
   ],
   "source": [
    "# three d problem 1 eps1\n",
    " \n",
    "# Original array\n",
    "array = np.zeros(5)\n",
    "array[0] = 9.3496\n",
    "array[1] = 9.2584\n",
    "array[2] = 9.4896\n",
    "array[3] = 8.8156\n",
    "array[4] = 9.0144\n",
    "print(array)\n",
    "  \n",
    "r1 = np.mean(array)\n",
    "print(\"\\nMean: \", r1)\n",
    "  \n",
    "r2 = np.std(array)\n",
    "print(\"\\nstd: \", r2)"
   ]
  },
  {
   "cell_type": "code",
   "execution_count": 13,
   "metadata": {},
   "outputs": [
    {
     "name": "stdout",
     "output_type": "stream",
     "text": [
      "[4.1135 4.0283 4.0408 4.0367 4.1058]\n",
      "\n",
      "Mean:  4.06502\n",
      "\n",
      "std:  0.0367431844020087\n"
     ]
    }
   ],
   "source": [
    "# three d problem 1 eps2\n",
    " \n",
    "# Original array\n",
    "array = np.zeros(5)\n",
    "array[0] = 4.1135\n",
    "array[1] = 4.0283\n",
    "array[2] = 4.0408\n",
    "array[3] = 4.0367\n",
    "array[4] = 4.1058\n",
    "print(array)\n",
    "  \n",
    "r1 = np.mean(array)\n",
    "print(\"\\nMean: \", r1)\n",
    "  \n",
    "r2 = np.std(array)\n",
    "print(\"\\nstd: \", r2)"
   ]
  },
  {
   "cell_type": "code",
   "execution_count": 14,
   "metadata": {},
   "outputs": [
    {
     "name": "stdout",
     "output_type": "stream",
     "text": [
      "[1.0965 1.175  1.0571 1.0931 1.0458]\n",
      "\n",
      "Mean:  1.0935\n",
      "\n",
      "std:  0.04528059186892328\n"
     ]
    }
   ],
   "source": [
    "# three d problem 1 eps3\n",
    " \n",
    "# Original array\n",
    "array = np.zeros(5)\n",
    "array[0] = 1.0965\n",
    "array[1] = 1.1750\n",
    "array[2] = 1.0571\n",
    "array[3] = 1.0931\n",
    "array[4] = 1.0458\n",
    "print(array)\n",
    "  \n",
    "r1 = np.mean(array)\n",
    "print(\"\\nMean: \", r1)\n",
    "  \n",
    "r2 = np.std(array)\n",
    "print(\"\\nstd: \", r2)"
   ]
  }
 ],
 "metadata": {
  "kernelspec": {
   "display_name": "Python 3",
   "language": "python",
   "name": "python3"
  },
  "language_info": {
   "codemirror_mode": {
    "name": "ipython",
    "version": 3
   },
   "file_extension": ".py",
   "mimetype": "text/x-python",
   "name": "python",
   "nbconvert_exporter": "python",
   "pygments_lexer": "ipython3",
   "version": "3.8.10"
  }
 },
 "nbformat": 4,
 "nbformat_minor": 4
}
